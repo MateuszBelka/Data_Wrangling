{
 "cells": [
  {
   "cell_type": "markdown",
   "metadata": {},
   "source": [
    "# Assignment 3"
   ]
  },
  {
   "cell_type": "code",
   "execution_count": 1,
   "metadata": {
    "deletable": false,
    "editable": false,
    "nbgrader": {
     "cell_type": "code",
     "checksum": "cd3ecc13604d15a89bbb1bebcb80e5c5",
     "grade": false,
     "grade_id": "libraries",
     "locked": true,
     "schema_version": 3,
     "solution": false
    }
   },
   "outputs": [],
   "source": [
    "import numpy as np\n",
    "import pandas as pd\n",
    "import matplotlib.pyplot as plt\n",
    "pd.options.display.max_rows = 20\n",
    "np.set_printoptions(precision=4, suppress=True)"
   ]
  },
  {
   "cell_type": "markdown",
   "metadata": {},
   "source": [
    "### Datetime manipulations\n",
    "\n",
    "The Data Wrangling course started on Monday 4 January 2021 at 9 am and will end on Friday 29 January at 5.15 pm. Calculate the duration of the course in minutes. Assign the value to the variable *duration*.\n"
   ]
  },
  {
   "cell_type": "code",
   "execution_count": 2,
   "metadata": {
    "deletable": false,
    "nbgrader": {
     "cell_type": "code",
     "checksum": "bf9d686d3d41aa5aa1801f06db6bd896",
     "grade": false,
     "grade_id": "duration",
     "locked": false,
     "schema_version": 3,
     "solution": true
    }
   },
   "outputs": [],
   "source": [
    "from datetime import datetime\n",
    "\n",
    "# YOUR CODE HERE\n",
    "start = datetime(2020, 1, 4, 9)\n",
    "end = datetime(2020, 1, 29, 5, 15)\n",
    "difference = end - start\n",
    "duration = difference.total_seconds() / 60\n",
    "# YOUR CODE ENDS HERE"
   ]
  },
  {
   "cell_type": "code",
   "execution_count": 3,
   "metadata": {
    "deletable": false,
    "editable": false,
    "nbgrader": {
     "cell_type": "code",
     "checksum": "a29b5a0fc095be7cd6b522a230f9a929",
     "grade": true,
     "grade_id": "duration-correct",
     "locked": true,
     "points": 1,
     "schema_version": 3,
     "solution": false
    }
   },
   "outputs": [
    {
     "name": "stdout",
     "output_type": "stream",
     "text": [
      "35775.0\n"
     ]
    }
   ],
   "source": [
    "print(duration)"
   ]
  },
  {
   "cell_type": "markdown",
   "metadata": {},
   "source": [
    "Below you will find the scheduled days of the course Data Wrangling. The values in the time series denote the number of contact hours spend on each lecture. Create a time series that calculates the cumulative sum of all the hours that you have spent on the course. Assign the cumulate sum on 25 January 2021 to the variable *cum_hours*."
   ]
  },
  {
   "cell_type": "code",
   "execution_count": 4,
   "metadata": {
    "deletable": false,
    "nbgrader": {
     "cell_type": "code",
     "checksum": "c9b85c888873b778821f34de5398be72",
     "grade": false,
     "grade_id": "cum-hours",
     "locked": false,
     "schema_version": 3,
     "solution": true
    }
   },
   "outputs": [],
   "source": [
    "from datetime import datetime\n",
    "from pandas.tseries.offsets import *\n",
    "\n",
    "\n",
    "dates = [datetime(2021, 1,  4), datetime(2021, 1,  5), datetime(2021, 1, 7),\n",
    "         datetime(2021, 1, 11), datetime(2021, 1, 12), datetime(2021, 1, 14),\n",
    "         datetime(2021, 1, 18), datetime(2021, 1, 19), datetime(2021, 1, 21),\n",
    "         datetime(2021, 1, 26), datetime(2021, 1, 27), datetime(2021, 2, 28),\n",
    "         datetime(2021, 1, 29)]\n",
    "ts = pd.Series([2, 2, 1, 2, 2, 1, 2, 2, 1, 3, 3, 3, 3], index = dates)\n",
    "\n",
    "# YOUR CODE HERE\n",
    "ts_cum = pd.Series(np.cumsum(ts.values), index = dates)\n",
    "cum_hours = ts_cum[:'2021-01-25'][-1]\n",
    "# YOUR CODE ENDS HERE"
   ]
  },
  {
   "cell_type": "code",
   "execution_count": 5,
   "metadata": {
    "deletable": false,
    "editable": false,
    "nbgrader": {
     "cell_type": "code",
     "checksum": "57784831ec59646fe15372e10e21d1de",
     "grade": true,
     "grade_id": "cum-hours-correct",
     "locked": true,
     "points": 1,
     "schema_version": 3,
     "solution": false
    }
   },
   "outputs": [
    {
     "name": "stdout",
     "output_type": "stream",
     "text": [
      "15\n"
     ]
    }
   ],
   "source": [
    "print(cum_hours)"
   ]
  },
  {
   "cell_type": "markdown",
   "metadata": {},
   "source": [
    "Suppose that you want to become a world-class expert in data wrangling. So, you decide to spent 2 hours learning data wrangling every Tuesday in 2021. As you have a lot of free time every first Wednesday of the month, you spent 3 hours learning data wrangling those days in 2021. Calculate how many hours you will spend learning in 2021. Assign that value to the variable *study_hours*."
   ]
  },
  {
   "cell_type": "code",
   "execution_count": 6,
   "metadata": {
    "deletable": false,
    "nbgrader": {
     "cell_type": "code",
     "checksum": "92a179674f7e6b3479cdbc4561aaeee8",
     "grade": false,
     "grade_id": "study-hours",
     "locked": false,
     "schema_version": 3,
     "solution": true
    }
   },
   "outputs": [],
   "source": [
    "from datetime import datetime\n",
    "\n",
    "# YOUR CODE HERE\n",
    "from datetime import timedelta\n",
    "import calendar\n",
    "\n",
    "TUESDAY_STUDYING_TIME_HRS = 2\n",
    "WEDNESDAY_STUDYING_TIME_HRS = 3\n",
    "\n",
    "start_date = datetime(2021, 1, 1)\n",
    "end_date = datetime(2021, 12, 31)\n",
    "tuesday_count = 0\n",
    "wednesday_count = 0\n",
    "\n",
    "for i in range(1, (end_date - start_date).days + 1):\n",
    "    day = calendar.day_name[(start_date + timedelta(days=i)).weekday()]\n",
    "    if day == \"Tuesday\":\n",
    "        tuesday_count += 1\n",
    "    elif day == \"Wednesday\":\n",
    "        wednesday_count += 1\n",
    "\n",
    "study_hours = (tuesday_count * TUESDAY_STUDYING_TIME_HRS + \n",
    "               wednesday_count * WEDNESDAY_STUDYING_TIME_HRS)\n",
    "# YOUR CODE ENDS HERE"
   ]
  },
  {
   "cell_type": "code",
   "execution_count": 7,
   "metadata": {
    "deletable": false,
    "editable": false,
    "nbgrader": {
     "cell_type": "code",
     "checksum": "1451e80574e09826ecd30ccc3a7bc10e",
     "grade": true,
     "grade_id": "study-hours-correct",
     "locked": true,
     "points": 1,
     "schema_version": 3,
     "solution": false
    }
   },
   "outputs": [
    {
     "name": "stdout",
     "output_type": "stream",
     "text": [
      "260\n"
     ]
    }
   ],
   "source": [
    "print(study_hours)"
   ]
  },
  {
   "cell_type": "markdown",
   "metadata": {},
   "source": [
    "Generate all business days in 2021 that start at the first weekday of the month. Calculate how many of these days fall on the second day of the month. Assign that value to the variable *second_days*."
   ]
  },
  {
   "cell_type": "code",
   "execution_count": 8,
   "metadata": {
    "deletable": false,
    "nbgrader": {
     "cell_type": "code",
     "checksum": "ae7db5c74fde90029f625c4bb2537c4f",
     "grade": false,
     "grade_id": "second-days",
     "locked": false,
     "schema_version": 3,
     "solution": true
    }
   },
   "outputs": [],
   "source": [
    "from datetime import datetime\n",
    "\n",
    "# YOUR CODE HERE\n",
    "from datetime import timedelta\n",
    "import calendar\n",
    "\n",
    "start_date = datetime(2021, 1, 1)\n",
    "end_date = datetime(2021, 12, 31)\n",
    "second_days = 0\n",
    "    \n",
    "for date in (start_date + timedelta(n) for n in range((end_date - start_date).days)):\n",
    "    prev_date = (date - timedelta(1))\n",
    "    \n",
    "    day_int = date.weekday()\n",
    "    prev_day_int = prev_date.weekday()\n",
    "    \n",
    "    if 0 <= day_int <= 4 and date.strftime(\"%d\") == '02' and 5 <= prev_day_int <= 6:\n",
    "        second_days += 1\n",
    "# YOUR CODE ENDS HERE"
   ]
  },
  {
   "cell_type": "code",
   "execution_count": 9,
   "metadata": {
    "deletable": false,
    "editable": false,
    "nbgrader": {
     "cell_type": "code",
     "checksum": "6c3ed869875d09e70f8edddb52ca01ca",
     "grade": true,
     "grade_id": "second-days-correct",
     "locked": true,
     "points": 1,
     "schema_version": 3,
     "solution": false
    }
   },
   "outputs": [
    {
     "name": "stdout",
     "output_type": "stream",
     "text": [
      "1\n"
     ]
    }
   ],
   "source": [
    "print(second_days)"
   ]
  },
  {
   "cell_type": "markdown",
   "metadata": {},
   "source": [
    "The first blood moon in 2021 will fall on 27 April 2021 at 05.31 am in Amsterdam. Calculate what  time it will be in Sydney (Australia) at that exact moment. Assign the answer to *bloodmoon*."
   ]
  },
  {
   "cell_type": "code",
   "execution_count": 10,
   "metadata": {
    "deletable": false,
    "nbgrader": {
     "cell_type": "code",
     "checksum": "add92fab4a7cd8adf9bea590d25fb559",
     "grade": false,
     "grade_id": "bloodmoon",
     "locked": false,
     "schema_version": 3,
     "solution": true
    }
   },
   "outputs": [],
   "source": [
    "from datetime import datetime\n",
    "import pytz\n",
    "\n",
    "# YOUR CODE HERE\n",
    "bloodmoon_date_ams = pytz.timezone('Europe/Amsterdam').localize(datetime(2021, 4, 27, 5, 31))\n",
    "bloodmoon = bloodmoon_date_ams.astimezone(pytz.timezone('Australia/Sydney'))\n",
    "# YOUR CODE ENDS HERE"
   ]
  },
  {
   "cell_type": "code",
   "execution_count": 11,
   "metadata": {
    "deletable": false,
    "editable": false,
    "nbgrader": {
     "cell_type": "code",
     "checksum": "c6bbb7d8603e0e953d96a3ada9e007ca",
     "grade": true,
     "grade_id": "bloodmoon-correct",
     "locked": true,
     "points": 1,
     "schema_version": 3,
     "solution": false
    }
   },
   "outputs": [
    {
     "name": "stdout",
     "output_type": "stream",
     "text": [
      "2021-04-27 13:31:00+10:00\n"
     ]
    }
   ],
   "source": [
    "print(bloodmoon)"
   ]
  },
  {
   "cell_type": "markdown",
   "metadata": {},
   "source": [
    "### Sales volumes\n",
    "\n",
    "The file *volume.csv* contains sales volumes of different companies. Read the file, and calculate the mean sales volumes of each company in the year 2010. Assign the series to the variable *volumes2010*. "
   ]
  },
  {
   "cell_type": "code",
   "execution_count": 12,
   "metadata": {
    "deletable": false,
    "nbgrader": {
     "cell_type": "code",
     "checksum": "73f294677a95ce9ed395db9bfee45b1d",
     "grade": false,
     "grade_id": "volumes2010",
     "locked": false,
     "schema_version": 3,
     "solution": true
    }
   },
   "outputs": [],
   "source": [
    "file = 'volume.csv'\n",
    "\n",
    "# YOUR CODE HERE\n",
    "sales_df = pd.read_csv(file)\n",
    "sales2010_df = sales_df[pd.to_datetime(sales_df['Unnamed: 0'], format='%Y-%m-%d %H:%M:%S').dt.year == 2010]\n",
    "\n",
    "company_names = sales2010_df.columns.tolist()\n",
    "company_names.pop(0)\n",
    "company_names\n",
    "\n",
    "volume2010_data = [sales2010_df[x].mean() for x in company_names]\n",
    "volumes2010 = pd.Series(volume2010_data, index = company_names)\n",
    "# YOUR CODE ENDS HERE"
   ]
  },
  {
   "cell_type": "code",
   "execution_count": 13,
   "metadata": {
    "deletable": false,
    "editable": false,
    "nbgrader": {
     "cell_type": "code",
     "checksum": "5b85b2016c1457229112f0b071bf9d2b",
     "grade": true,
     "grade_id": "volumes2010-correct",
     "locked": true,
     "points": 1,
     "schema_version": 3,
     "solution": false
    }
   },
   "outputs": [
    {
     "name": "stdout",
     "output_type": "stream",
     "text": [
      "AA      3.113912e+07\n",
      "AAPL    2.140376e+07\n",
      "GE      7.223856e+07\n",
      "IBM     6.422816e+06\n",
      "JNJ     1.214678e+07\n",
      "MSFT    6.306716e+07\n",
      "PEP     6.962504e+06\n",
      "SPX     4.566245e+09\n",
      "XOM     2.643224e+07\n",
      "dtype: float64\n"
     ]
    }
   ],
   "source": [
    "print(volumes2010)"
   ]
  },
  {
   "cell_type": "markdown",
   "metadata": {},
   "source": [
    "In which year did the sales volume of Apple (*AAPL*) overtake the sales volume of Microsoft (*MSFT*)? Calculate the value and assign the timestamp to the variable *changeover*."
   ]
  },
  {
   "cell_type": "code",
   "execution_count": 14,
   "metadata": {
    "deletable": false,
    "nbgrader": {
     "cell_type": "code",
     "checksum": "51c0e9d0a7a2c7d12196eb1405144de1",
     "grade": false,
     "grade_id": "changeover",
     "locked": false,
     "schema_version": 3,
     "solution": true
    }
   },
   "outputs": [],
   "source": [
    "file = 'volume.csv'\n",
    "\n",
    "# YOUR CODE HERE\n",
    "sales_df = pd.read_csv(file)\n",
    "changeover = ''\n",
    "\n",
    "for index, row in sales_df.iterrows():\n",
    "    if row['AAPL'] > row['MSFT']:\n",
    "        changeover = row['Unnamed: 0']\n",
    "        break\n",
    "# YOUR CODE ENDS HERE"
   ]
  },
  {
   "cell_type": "code",
   "execution_count": 15,
   "metadata": {
    "deletable": false,
    "editable": false,
    "nbgrader": {
     "cell_type": "code",
     "checksum": "5619ee14e4174aa35cbec2e33ca2ac66",
     "grade": true,
     "grade_id": "changeover-correct",
     "locked": true,
     "points": 1,
     "schema_version": 3,
     "solution": false
    }
   },
   "outputs": [
    {
     "name": "stdout",
     "output_type": "stream",
     "text": [
      "1992-08-06 00:00:00\n"
     ]
    }
   ],
   "source": [
    "print(changeover)"
   ]
  },
  {
   "cell_type": "markdown",
   "metadata": {},
   "source": [
    "Format the date that you have found in a nicer way corresponding to the style dd/mm/yy. Thus, the day (dd), month (mm), and the year (yy) are formatted in 2 digits, separated by slashes. Assign the value to the variable *nicedate*."
   ]
  },
  {
   "cell_type": "code",
   "execution_count": 16,
   "metadata": {
    "deletable": false,
    "nbgrader": {
     "cell_type": "code",
     "checksum": "db9c43b9cebdb5c4e984121eda1c577b",
     "grade": false,
     "grade_id": "nicedate",
     "locked": false,
     "schema_version": 3,
     "solution": true
    }
   },
   "outputs": [],
   "source": [
    "# YOUR CODE HERE\n",
    "nicedate = datetime.strptime(changeover, '%Y-%m-%d %H:%M:%S').strftime('%d/%m/%y')\n",
    "# YOUR CODE ENDS HERE"
   ]
  },
  {
   "cell_type": "code",
   "execution_count": 17,
   "metadata": {
    "deletable": false,
    "editable": false,
    "nbgrader": {
     "cell_type": "code",
     "checksum": "096c0641190fc60828422b99c02ce24f",
     "grade": true,
     "grade_id": "nicedate-correct",
     "locked": true,
     "points": 1,
     "schema_version": 3,
     "solution": false
    }
   },
   "outputs": [
    {
     "name": "stdout",
     "output_type": "stream",
     "text": [
      "06/08/92\n"
     ]
    }
   ],
   "source": [
    "print(nicedate)"
   ]
  },
  {
   "cell_type": "markdown",
   "metadata": {},
   "source": [
    "Apple has to report every end of the year (31 December) what its current sales volume is (not cumulative!). Create a time series for every year with the sales volume listed for Apple (AAPL) on 31 December. If the data does not contain a record for this date, then take the last known value that this known prior to that date. Assign the time series to the variable *apple_report*."
   ]
  },
  {
   "cell_type": "code",
   "execution_count": 18,
   "metadata": {
    "deletable": false,
    "nbgrader": {
     "cell_type": "code",
     "checksum": "50dc840332b40030dc78d68c44d1215c",
     "grade": false,
     "grade_id": "apple-report",
     "locked": false,
     "schema_version": 3,
     "solution": true
    }
   },
   "outputs": [],
   "source": [
    "# YOUR CODE HERE\n",
    "apple_df = sales_df[['Unnamed: 0','AAPL']].copy()\n",
    "apple_df['Unnamed: 0'] = pd.to_datetime(apple_df['Unnamed: 0'], format='%Y-%m-%d %H:%M:%S')\n",
    "apple_df['year'] = apple_df['Unnamed: 0'].dt.year\n",
    "apple_df = apple_df.groupby('year').tail(1)\n",
    "apple_df.drop(columns=['year'], inplace=True)\n",
    "\n",
    "years = apple_df['Unnamed: 0'].values\n",
    "volume = apple_df['AAPL'].values\n",
    "apple_report = pd.Series(volume, index = years)\n",
    "# YOUR CODE ENDS HERE"
   ]
  },
  {
   "cell_type": "code",
   "execution_count": 19,
   "metadata": {
    "deletable": false,
    "editable": false,
    "nbgrader": {
     "cell_type": "code",
     "checksum": "361fb4b723176ee48e027cb430e49dfd",
     "grade": true,
     "grade_id": "apple-report-correct",
     "locked": true,
     "points": 1,
     "schema_version": 3,
     "solution": false
    }
   },
   "outputs": [
    {
     "name": "stdout",
     "output_type": "stream",
     "text": [
      "1990-12-31     1593200.0\n",
      "1991-12-31     4802000.0\n",
      "1992-12-31     3302000.0\n",
      "1993-12-31     5765200.0\n",
      "1994-12-30     2616400.0\n",
      "                 ...    \n",
      "2007-12-31    19261900.0\n",
      "2008-12-31    21697900.0\n",
      "2009-12-31    12586100.0\n",
      "2010-12-31     6911000.0\n",
      "2011-10-14    20450000.0\n",
      "Length: 22, dtype: float64\n"
     ]
    }
   ],
   "source": [
    "print(apple_report)"
   ]
  },
  {
   "cell_type": "markdown",
   "metadata": {},
   "source": [
    "The volumes of Apple are highly fluctuating over time. You can clearly see that when you make a plot. It would be better to smooth out the sales volume by taking a moving average with a period of 200 days. Calculate the moving average of the sales volume and assign to the variable *apple_smooth*. Create a plot with the original time series and the smooth version of the time series."
   ]
  },
  {
   "cell_type": "code",
   "execution_count": 20,
   "metadata": {
    "deletable": false,
    "nbgrader": {
     "cell_type": "code",
     "checksum": "800a9b3992a6a62b3b3f3319cca9de13",
     "grade": false,
     "grade_id": "apple-smooth",
     "locked": false,
     "schema_version": 3,
     "solution": true
    }
   },
   "outputs": [
    {
     "data": {
      "image/png": "[encoded data removed]",
      "text/plain": [
       "<Figure size 432x288 with 1 Axes>"
      ]
     },
     "metadata": {
      "needs_background": "light"
     },
     "output_type": "display_data"
    }
   ],
   "source": [
    "# YOUR CODE HERE\n",
    "apple_df = sales_df[['Unnamed: 0','AAPL']].copy()\n",
    "apple_df['Unnamed: 0'] = pd.to_datetime(apple_df['Unnamed: 0'], format='%Y-%m-%d %H:%M:%S')\n",
    "\n",
    "apple_smooth = apple_df.copy()\n",
    "apple_smooth['AAPL'] = apple_df.rolling(200, min_periods=1).mean()\n",
    "apple_smooth = apple_smooth[['Unnamed: 0','AAPL']]\n",
    "\n",
    "plt.plot(apple_df['Unnamed: 0'] , apple_df['AAPL'], label = \"original\")\n",
    "plt.plot(apple_smooth['Unnamed: 0'] , apple_smooth['AAPL'], label = \"moving average\")\n",
    "plt.xlabel('Time')\n",
    "plt.ylabel('Sales Volume')\n",
    "plt.title('AAPL sales volume over time')\n",
    "plt.legend()\n",
    "plt.show()\n",
    "# YOUR CODE ENDS HERE"
   ]
  },
  {
   "cell_type": "code",
   "execution_count": 21,
   "metadata": {
    "deletable": false,
    "editable": false,
    "nbgrader": {
     "cell_type": "code",
     "checksum": "412abdfa9f67643ad3bbb4c1b986c5a1",
     "grade": true,
     "grade_id": "apple-smooth-correct",
     "locked": true,
     "points": 1,
     "schema_version": 3,
     "solution": false
    }
   },
   "outputs": [
    {
     "name": "stdout",
     "output_type": "stream",
     "text": [
      "     Unnamed: 0          AAPL\n",
      "0    1990-02-01  4.193200e+06\n",
      "1    1990-02-02  4.221000e+06\n",
      "2    1990-02-05  4.031733e+06\n",
      "3    1990-02-06  3.683800e+06\n",
      "4    1990-02-07  5.183200e+06\n",
      "...         ...           ...\n",
      "5467 2011-10-10  1.803358e+07\n",
      "5468 2011-10-11  1.809702e+07\n",
      "5469 2011-10-12  1.817664e+07\n",
      "5470 2011-10-13  1.822339e+07\n",
      "5471 2011-10-14  1.829752e+07\n",
      "\n",
      "[5472 rows x 2 columns]\n"
     ]
    }
   ],
   "source": [
    "print(apple_smooth)"
   ]
  }
 ],
 "metadata": {
  "kernelspec": {
   "display_name": "Python 3",
   "language": "python",
   "name": "python3"
  },
  "language_info": {
   "codemirror_mode": {
    "name": "ipython",
    "version": 3
   },
   "file_extension": ".py",
   "mimetype": "text/x-python",
   "name": "python",
   "nbconvert_exporter": "python",
   "pygments_lexer": "ipython3",
   "version": "3.8.6"
  }
 },
 "nbformat": 4,
 "nbformat_minor": 2
}
